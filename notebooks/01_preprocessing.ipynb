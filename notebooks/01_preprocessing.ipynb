{
 "cells": [
  {
   "cell_type": "markdown",
   "metadata": {},
   "source": [
    "# 01 - 데이터 전처리 노트북"
   ]
  }
 ],
 "metadata": {},
 "nbformat": 4,
 "nbformat_minor": 2
}

# Google Drive 연동
from google.colab import drive
drive.mount('/content/drive')

# 데이터 불러오기
import pandas as pd
df = pd.read_csv('/content/drive/MyDrive/credit-risk-project/data/cs-training.csv')
