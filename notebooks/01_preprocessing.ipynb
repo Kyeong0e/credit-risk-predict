{
 "cells": [
  {
   "cell_type": "markdown",
   "metadata": {},
   "source": [
    "# 01 - 전처리 노트북\n",
    "\n",
    "이 노트북에서는 데이터를 불러오고 전처리를 수행합니다."
   ]
  },
  {
   "cell_type": "code",
   "execution_count": null,
   "metadata": {},
   "outputs": [],
   "source": [
    "# 예시: 모듈 불러오기\n",
    "from src.preprocess import *"
   ]
  }
 ],
 "metadata": {
  "kernelspec": {
   "display_name": "Python 3",
   "language": "python",
   "name": "python3"
  },
  "language_info": {
   "name": "python",
   "version": "3.10"
  }
 },
 "nbformat": 4,
 "nbformat_minor": 2
}

# Google Drive 연동
from google.colab import drive
drive.mount('/content/drive')

# 데이터 불러오기
import pandas as pd
df = pd.read_csv('/content/drive/MyDrive/credit-risk-project/data/cs-training.csv')
