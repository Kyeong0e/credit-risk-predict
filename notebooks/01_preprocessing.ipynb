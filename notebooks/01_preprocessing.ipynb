{
 "cells": [
  {
   "cell_type": "markdown",
   "metadata": {},
   "source": [
    "# 01 - 전처리 실험 노트북\n",
    "Google Drive에서 데이터를 불러오고, 전처리 함수를 실행합니다."
   ]
  },
  {
   "cell_type": "code",
   "metadata": {},
   "source": [
    "# 📁 Google Drive 마운트\n",
    "from google.colab import drive\n",
    "drive.mount('/content/drive')"
   ],
   "execution_count": null,
   "outputs": []
  },
  {
   "cell_type": "code",
   "metadata": {},
   "source": [
    "# 📂 src 디렉토리를 path에 추가\n",
    "import sys\n",
    "sys.path.append('/content/drive/MyDrive/credit-risk-project')"
   ],
   "execution_count": null,
   "outputs": []
  },
  {
   "cell_type": "code",
   "metadata": {},
   "source": [
    "# 📊 전처리 함수 실행\n",
    "from src.preprocess import *\n",
    "\n",
    "df = load_data('/content/drive/MyDrive/credit-risk-project/data/cs-training.csv')\n",
    "df = tag_data_sufficiency(df)\n",
    "df_train = sample_balanced_train_data(df, sample_per_class=2500)\n",
    "df_test = sample_test_data(df, df_train, test_size=1000, missing_size=50)\n",
    "df_test = impute_test_data(df_test, df_train)\n",
    "\n",
    "df_train.to_csv('train_data_used.csv', index=False)\n",
    "df_test.to_csv('test_data_used.csv', index=False)\n",
    "print('[INFO] 전처리 완료')"
   ],
   "execution_count": null,
   "outputs": []
  }
 ],
 "metadata": {
  "kernelspec": {
   "display_name": "Python 3",
   "language": "python",
   "name": "python3"
  },
  "language_info": {
   "name": "python",
   "version": "3.10"
  }
 },
 "nbformat": 4,
 "nbformat_minor": 2
}
